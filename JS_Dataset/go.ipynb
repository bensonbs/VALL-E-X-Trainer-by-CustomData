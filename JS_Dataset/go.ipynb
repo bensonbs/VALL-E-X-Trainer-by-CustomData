{
 "cells": [
  {
   "cell_type": "code",
   "execution_count": 5,
   "metadata": {},
   "outputs": [
    {
     "name": "stderr",
     "output_type": "stream",
     "text": [
      "Downloading...\n",
      "From (uriginal): https://drive.google.com/uc?id=1xdrdvk6uk3OW9kAb78dWzY_Kv7sneqNF\n",
      "From (redirected): https://drive.google.com/uc?id=1xdrdvk6uk3OW9kAb78dWzY_Kv7sneqNF&confirm=t&uuid=7935c7f4-aee6-41c3-9875-e7c802eb583e\n",
      "To: c:\\Users\\BBS\\code\\VALL-E-X-Trainer-by-CustomData\\JS_Dataset\\small_tune.zip\n",
      "100%|██████████| 149M/149M [00:04<00:00, 33.6MB/s] \n"
     ]
    }
   ],
   "source": [
    "import gdown\n",
    "import zipfile\n",
    "import os\n",
    "import py7zr\n",
    "\n",
    "url = 'https://drive.google.com/uc?id=1xdrdvk6uk3OW9kAb78dWzY_Kv7sneqNF'\n",
    "output = 'small_tune.zip'\n",
    "gdown.download(url, output, quiet=False)\n",
    "\n",
    "os.makedirs('JS_Dataset',exist_ok=True)\n",
    "with py7zr.SevenZipFile(output, mode='r') as z:\n",
    "    z.extractall('JS_Dataset')\n",
    "\n",
    "os.remove(output)  # Remove the zip file after extraction\n"
   ]
  },
  {
   "cell_type": "code",
   "execution_count": null,
   "metadata": {},
   "outputs": [],
   "source": [
    "url = 'https://drive.google.com/uc?id=1xdrdvk6uk3OW9kAb78dWzY_Kv7sneqNF'\n",
    "output = 'train_tune.zip'\n",
    "gdown.download(url, output, quiet=False)\n",
    "\n",
    "os.makedirs('JS_Dataset',exist_ok=True)\n",
    "with py7zr.SevenZipFile(output, mode='r') as z:\n",
    "    z.extractall('JS_Dataset')\n",
    "\n",
    "os.remove(output)  # Remove the zip file after extraction"
   ]
  },
  {
   "cell_type": "code",
   "execution_count": null,
   "metadata": {},
   "outputs": [],
   "source": [
    "url = 'https://drive.google.com/uc?id=1xdrdvk6uk3OW9kAb78dWzY_Kv7sneqNF'\n",
    "output = 'valid_tune.zip'\n",
    "gdown.download(url, output, quiet=False)\n",
    "\n",
    "os.makedirs('JS_Dataset',exist_ok=True)\n",
    "with py7zr.SevenZipFile(output, mode='r') as z:\n",
    "    z.extractall('JS_Dataset')\n",
    "\n",
    "os.remove(output)  # Remove the zip file after extraction"
   ]
  }
 ],
 "metadata": {
  "kernelspec": {
   "display_name": "base",
   "language": "python",
   "name": "python3"
  },
  "language_info": {
   "codemirror_mode": {
    "name": "ipython",
    "version": 3
   },
   "file_extension": ".py",
   "mimetype": "text/x-python",
   "name": "python",
   "nbconvert_exporter": "python",
   "pygments_lexer": "ipython3",
   "version": "3.9.17"
  }
 },
 "nbformat": 4,
 "nbformat_minor": 2
}
